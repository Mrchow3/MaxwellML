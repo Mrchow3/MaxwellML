{
  "nbformat": 4,
  "nbformat_minor": 0,
  "metadata": {
    "colab": {
      "name": "Learning RNNs.ipynb",
      "provenance": []
    },
    "kernelspec": {
      "name": "python3",
      "display_name": "Python 3"
    }
  },
  "cells": [
    {
      "cell_type": "markdown",
      "metadata": {
        "id": "mZJcBRPM2HEm",
        "colab_type": "text"
      },
      "source": [
        "#Intro to RNNs"
      ]
    },
    {
      "cell_type": "markdown",
      "metadata": {
        "id": "-BHHTWo9RLMo",
        "colab_type": "text"
      },
      "source": [
        "DNNs often have a dificult time processing time series data as the input data needs to be inputted as a single data point, or the DNN needs to be able to reference previous time points while fitting data."
      ]
    },
    {
      "cell_type": "markdown",
      "metadata": {
        "id": "6pzPEgPVSFjd",
        "colab_type": "text"
      },
      "source": [
        "Furthermore, the problem of disappearing gradients occurs when sigmoid activations calculate a small gradient as a result of several million/billion parameters across several layers (Also another reason why relu is preferred). This gradient becomes so small that the model would require an arbitrarily large amount of epochs to train since backpropagating an arbitrarily small gradient would have little impact on the activations."
      ]
    },
    {
      "cell_type": "markdown",
      "metadata": {
        "id": "cSYApmmJRfm6",
        "colab_type": "text"
      },
      "source": [
        "RNNs fix this problem by deciding what previous calculations should be used to influence calculations while the model is fitting. Specific layers perform this task and then feed the information into a set of classifier layers that send an output. This perserves time series data and the allows prior calculations to influence future ones in order to prevent small gradient updates."
      ]
    },
    {
      "cell_type": "markdown",
      "metadata": {
        "id": "W8Olr6cp2R7O",
        "colab_type": "text"
      },
      "source": [
        "![alt text](https://lh3.googleusercontent.com/proxy/qC7bP_rNp8AbPCR2gKYAbeVQqo0TZW5dELa1kRud2E0ZkKOs-m7sdTR6613A8emm__t3pYrPcy0S2-rPPma9JYLwM_YXj7ucWj0Y2ta0QIw)"
      ]
    },
    {
      "cell_type": "markdown",
      "metadata": {
        "id": "xvUo8CNZR0WX",
        "colab_type": "text"
      },
      "source": [
        "![alt text](https://miro.medium.com/max/3032/1*yBXV9o5q7L_CvY7quJt3WQ.png)"
      ]
    },
    {
      "cell_type": "markdown",
      "metadata": {
        "id": "K0dP1UfgR3Hi",
        "colab_type": "text"
      },
      "source": [
        "In each RNN layer, data is fed into the layer and based on the weights of that layer, the RNN chooses what to forget, and what to add onto a future input. Calculating what to add and what to forget is looped throughout every datapoint similar to a for loop."
      ]
    },
    {
      "cell_type": "markdown",
      "metadata": {
        "id": "Ao-lttUuS6ja",
        "colab_type": "text"
      },
      "source": [
        "Above are examples of state of the art RNN layers that are used everywhere. The activation layers are the layers choosing what to \"forget\" and the concatenation are the layers choosing what to \"add to the future data\"."
      ]
    },
    {
      "cell_type": "markdown",
      "metadata": {
        "id": "gHl6epHZUQKK",
        "colab_type": "text"
      },
      "source": [
        "![alt text](https://colah.github.io/posts/2015-08-Understanding-LSTMs/img/LSTM3-var-GRU.png)"
      ]
    },
    {
      "cell_type": "markdown",
      "metadata": {
        "id": "3FxlfYawUSfA",
        "colab_type": "text"
      },
      "source": [
        "Note that this model doesn't have a loss function or weights. The weights are imbeded in the multiplication and addition sign, gradient descent propagates an update the same way as regular network: (Also note that the derivative of tanh is more expensive than the sigmoid so relu is often subsituted for one of these activations)."
      ]
    },
    {
      "cell_type": "markdown",
      "metadata": {
        "id": "bQw2MyxeViPw",
        "colab_type": "text"
      },
      "source": [
        "![alt text](https://2.bp.blogspot.com/-ZxJ87cWjPJ8/TtLtwqv0hCI/AAAAAAAAAV0/9FYqcxJ6dNY/s1600/gradient+descent+algorithm+OLS.png)"
      ]
    },
    {
      "cell_type": "markdown",
      "metadata": {
        "id": "66Vl8otTVobO",
        "colab_type": "text"
      },
      "source": [
        "Except the partial derivative is calculated every activation layer and the gradient of the cost function is needed to calculate the loss in a particular direction. Thus the RNN layer needs to propagate n partial derivatives (where n is # of features) to calculate a change in the weights."
      ]
    },
    {
      "cell_type": "markdown",
      "metadata": {
        "id": "dUWGkiWlXblm",
        "colab_type": "text"
      },
      "source": [
        "RNNs are often used for NLP (Natural Language Processing) because temporal and spatial hierarchies are preserved. Typical algorithms take the amount of words and the type of words, but do not take in account their position and the time elapsed from a word. This allows RNNs to stand out because they account for these flaws and more."
      ]
    },
    {
      "cell_type": "markdown",
      "metadata": {
        "id": "G-EFbga6WqjN",
        "colab_type": "text"
      },
      "source": [
        "Keras handles lstms and grus but data transformation is still needed in order to use these layers."
      ]
    },
    {
      "cell_type": "markdown",
      "metadata": {
        "id": "X_DriTUyaO7o",
        "colab_type": "text"
      },
      "source": [
        "#Preprocessing data for RNNs"
      ]
    },
    {
      "cell_type": "markdown",
      "metadata": {
        "id": "2znr5lVYgBrx",
        "colab_type": "text"
      },
      "source": [
        "In order to process words, they are \"Tokenized\" or split into several tokens: (Each sentence has its own tensor and contains each tokenized word). "
      ]
    },
    {
      "cell_type": "markdown",
      "metadata": {
        "id": "kzgq5a6zgPa2",
        "colab_type": "text"
      },
      "source": [
        "![alt text](https://freecontent.manning.com/wp-content/uploads/Chollet_DLfT_01.png)"
      ]
    },
    {
      "cell_type": "markdown",
      "metadata": {
        "id": "zsVIjWTWgjsp",
        "colab_type": "text"
      },
      "source": [
        "Sentence tensor:\n",
        "\n",
        "\n",
        "```\n",
        "[[\"The\",\"Cat\",\"Sat\",\"On\",\"The\",\"Mat\",\".\"], [\"The\",\"Cat\",\"Took\",\"The\",\"Hat\",\".\"]] #Then each word is tokenized\n",
        "```\n",
        "\n",
        "\n",
        "Also note that words are case sensitive."
      ]
    },
    {
      "cell_type": "markdown",
      "metadata": {
        "id": "x-tFzdaTaSP1",
        "colab_type": "text"
      },
      "source": [
        "Typically words are one hot encoded by letter and then concantenated to a sentence tensor and a row's length = largest word."
      ]
    },
    {
      "cell_type": "markdown",
      "metadata": {
        "id": "BnMJzyEkbn0e",
        "colab_type": "text"
      },
      "source": [
        "![alt text](https://assets.website-files.com/5ac6b7f2924c656f2b13a88c/5b873726ab29dbea4f33ae80_Screen%20Shot%202018-08-27%20at%202.32.03%20PM.png)"
      ]
    },
    {
      "cell_type": "markdown",
      "metadata": {
        "id": "_E2U0Ih8hgrt",
        "colab_type": "text"
      },
      "source": [
        "If this method is not used, a word dictionary where each word is assigned an index and then each word is one hot encoded. This one hot encoded vector is then kept in the word dictionary."
      ]
    },
    {
      "cell_type": "markdown",
      "metadata": {
        "id": "45fyB-L0b7Va",
        "colab_type": "text"
      },
      "source": [
        "Note that a one hot encoded word tensor would be absolutely huge because words such as \"The\" would need to be padded in order to account for a row. Instead, word vectors are used. Word vectors are essentially encoded words but instead of encoding each letter, the entire word is assigned to a vector. This vector is also calculated in relation to other words: (This creates a relation between words allowing for better predictive power)"
      ]
    },
    {
      "cell_type": "markdown",
      "metadata": {
        "id": "MWcuQX6SdRLU",
        "colab_type": "text"
      },
      "source": [
        "![alt text](https://i.ytimg.com/vi/wvsE8jm1GzE/maxresdefault.jpg)"
      ]
    },
    {
      "cell_type": "markdown",
      "metadata": {
        "id": "Sw2CEdkedT8f",
        "colab_type": "text"
      },
      "source": [
        "Each MNIST number is clustered in relation to eachother (There are several false positives due to picture similarities)"
      ]
    },
    {
      "cell_type": "markdown",
      "metadata": {
        "id": "56Z10akbdgZG",
        "colab_type": "text"
      },
      "source": [
        "![alt text](https://miro.medium.com/max/612/1*j-ZDkqDKmkH7XVkE0MckUQ.png)"
      ]
    },
    {
      "cell_type": "markdown",
      "metadata": {
        "id": "WFGJ7aE1drtA",
        "colab_type": "text"
      },
      "source": [
        "Distances between vectors indicate relation and vectors can be concantenated to produce a new vector. This is super useful as you can derive relations from other vectors."
      ]
    },
    {
      "cell_type": "markdown",
      "metadata": {
        "id": "xOUMYc-zeg5D",
        "colab_type": "text"
      },
      "source": [
        "![alt text](https://raw.githubusercontent.com/ZackAkil/nlp-using-word-vectors/master/images/cosine1.png)"
      ]
    },
    {
      "cell_type": "markdown",
      "metadata": {
        "id": "_r3zjXXXezYl",
        "colab_type": "text"
      },
      "source": [
        "Word vectors have to be learned as relations are not magically produced from nowhere. This process is done in tandem with training a model. Since learning word vectors are similar to training a model, word vectors can be loaded in from an external dataset (Word2Vec is a popular dataset)"
      ]
    },
    {
      "cell_type": "markdown",
      "metadata": {
        "id": "hQ8c2wV6iDUg",
        "colab_type": "text"
      },
      "source": [
        "###Code for preprocessing data"
      ]
    },
    {
      "cell_type": "code",
      "metadata": {
        "id": "wbD7PsLbaR9L",
        "colab_type": "code",
        "colab": {}
      },
      "source": [
        "from keras.preprocessing.text import Tokenizer\n",
        "\n",
        "samples = ['The cat sat on the mat.', 'The dog ate my homework.']\n",
        "\n",
        "tokenizer = Tokenizer(num_words=1000) #Given a dataset, only considers the top 1000 most common words\n",
        "tokenizer.fit_on_texts(samples) #Creates a word dictionary/index \n",
        "\n",
        "sequences = tokenizer.texts_to_sequences(samples) #Creates tensor of integer indicies from dictionary ([1,2,3,4,5],[2,3,4,1,5])"
      ],
      "execution_count": 0,
      "outputs": []
    },
    {
      "cell_type": "code",
      "metadata": {
        "id": "HlWX3PUgjSCE",
        "colab_type": "code",
        "colab": {}
      },
      "source": [
        "one_hot_results = tokenizer.texts_to_matrix(samples, mode='binary') #Raw one hot encoding "
      ],
      "execution_count": 0,
      "outputs": []
    },
    {
      "cell_type": "code",
      "metadata": {
        "id": "keQkR_YYjHjX",
        "colab_type": "code",
        "colab": {}
      },
      "source": [
        "word_index = tokenizer.word_index\n",
        "print('Found %s unique tokens.' % len(word_index)) #Recovers word indicies and returns dictionary"
      ],
      "execution_count": 0,
      "outputs": []
    },
    {
      "cell_type": "code",
      "metadata": {
        "id": "J7KdnUDVnh1T",
        "colab_type": "code",
        "colab": {}
      },
      "source": [
        "from keras import preprocessing\n",
        "\n",
        "maxlen = 100\n",
        "\n",
        "x_test = preprocessing.sequence.pad_sequences(sequences, maxlen=maxlen) #Padding a tensor incase data samples are not equal size"
      ],
      "execution_count": 0,
      "outputs": []
    },
    {
      "cell_type": "markdown",
      "metadata": {
        "id": "luMiqVJBW8wb",
        "colab_type": "text"
      },
      "source": [
        "#Project description:"
      ]
    },
    {
      "cell_type": "markdown",
      "metadata": {
        "id": "iDNTSekcXAKl",
        "colab_type": "text"
      },
      "source": [
        "The IMDB dataset (a common ML dataset) will be used in conjunction with keras to predict if a movie review is positive or negative. Note that this model can be carried over to other problems as the use of words include a spatial hierarchy (position of words matter). "
      ]
    },
    {
      "cell_type": "markdown",
      "metadata": {
        "id": "txLf59l-ZtzY",
        "colab_type": "text"
      },
      "source": [
        "Processing data:"
      ]
    },
    {
      "cell_type": "code",
      "metadata": {
        "id": "F54QCv3ql6ax",
        "colab_type": "code",
        "colab": {}
      },
      "source": [
        "#Pickling the dataset, needs to run only once\n",
        "'''\n",
        "############# === Processing data only needs to run once properly === #############\n",
        "import os, shutil  \n",
        "from tqdm.auto import tqdm as tqdm\n",
        "\n",
        "from google.colab import drive\n",
        "drive.mount('/content/drive')\n",
        "\n",
        "#Goal: label and organize data\n",
        "\n",
        "features = []\n",
        "labels = []\n",
        "\n",
        "categories = [\"neg\",\"pos\"]\n",
        "data_dir_origin = '/content/drive/My Drive/Datasets/imdb_ds/{}'\n",
        "for label in categories:\n",
        "  data_dir = '/content/drive/My Drive/Datasets/imdb_ds/{}'.format(label)\n",
        "  for file_name in tqdm(os.listdir(data_dir)):\n",
        "    print(file_name)\n",
        "    #print(file_name[-4:])\n",
        "\n",
        "    try:\n",
        "\n",
        "      if file_name[-4:] == '.txt':\n",
        "        f = open(os.path.join(data_dir,file_name)) #Opening and reading the file object.\n",
        "        features.append(f.read()) #Appending the data read from the read object.\n",
        "        f.close()\n",
        "      if label == 'neg':\n",
        "        labels.append(label)\n",
        "      if label == 'pos':\n",
        "        labels.append(label)\n",
        "\n",
        "    except Exception as e:\n",
        "      #Exception is a general exception it is not defined it will give whatever the error was\n",
        "      print(\"Something went wrong\", e)\n",
        "\n",
        "import pickle as pic\n",
        "\n",
        "DATA_PATH = '/content/drive/My Drive/Datasets/Pickles'\n",
        " \n",
        "pickle_file = open(DATA_PATH + '/features_imdb.pickle',\"wb\") \n",
        " \n",
        "pic.dump(features, pickle_file)\n",
        "pickle_file.close()\n",
        "\n",
        "################################################################################\n",
        "\n",
        "DATA_PATH = '/content/drive/My Drive/Datasets/Pickles'\n",
        "  \n",
        "pickle_file = open(DATA_PATH + '/labels_imdb.pickle',\"wb\") \n",
        " \n",
        "pickle.dump(labels, pickle_file)\n",
        "pickle_file.close()\n",
        "'''"
      ],
      "execution_count": 0,
      "outputs": []
    },
    {
      "cell_type": "code",
      "metadata": {
        "id": "WBmWtf1sW_0i",
        "colab_type": "code",
        "colab": {
          "base_uri": "https://localhost:8080/",
          "height": 51
        },
        "outputId": "176ba39b-0d89-4b43-b278-d3a3e9deee68"
      },
      "source": [
        "import pickle\n",
        "import numpy as np\n",
        "\n",
        "from google.colab import drive\n",
        "drive.mount('/content/drive')\n",
        "\n",
        "DATA_PATH = '/content/drive/My Drive/Datasets and Pickles/Pickles_Old'\n",
        "infile1 = open(DATA_PATH + '/features_imdb.pickle',\"rb\")\n",
        "features = pickle.load(infile1)\n",
        "infile = open(DATA_PATH + '/labels_imdb.pickle',\"rb\")\n",
        "labels = pickle.load(infile)\n",
        "\n",
        "features = np.asarray(features)\n",
        "labels = np.asarray(labels)\n",
        "\n",
        "if \"neg\" and \"pos\" in labels:\n",
        "  print(\"Data checked\")"
      ],
      "execution_count": 13,
      "outputs": [
        {
          "output_type": "stream",
          "text": [
            "Drive already mounted at /content/drive; to attempt to forcibly remount, call drive.mount(\"/content/drive\", force_remount=True).\n",
            "Data checked\n"
          ],
          "name": "stdout"
        }
      ]
    },
    {
      "cell_type": "markdown",
      "metadata": {
        "id": "XGXOsXZ1mil7",
        "colab_type": "text"
      },
      "source": [
        "Encoding the outputs"
      ]
    },
    {
      "cell_type": "code",
      "metadata": {
        "id": "lqk_wKPxRtEt",
        "colab_type": "code",
        "colab": {
          "base_uri": "https://localhost:8080/",
          "height": 68
        },
        "outputId": "6dc5fc9e-73aa-44da-87ce-b00c3edaf2db"
      },
      "source": [
        "print(len(labels))\n",
        "for i, j in enumerate(labels):\n",
        "  try:\n",
        "    if j == \"neg\":\n",
        "      labels[i] = 0\n",
        "    if j == \"pos\":\n",
        "      labels[i] = 1\n",
        "  except Exception as e:\n",
        "    pass #Do not do this in production model\n",
        "\n",
        "\n",
        "print(labels)\n",
        "print(len(labels))"
      ],
      "execution_count": 14,
      "outputs": [
        {
          "output_type": "stream",
          "text": [
            "17263\n",
            "['0' '0' '0' ... '1' '1' '1']\n",
            "17263\n"
          ],
          "name": "stdout"
        }
      ]
    },
    {
      "cell_type": "markdown",
      "metadata": {
        "id": "w4ZIghZWZydz",
        "colab_type": "text"
      },
      "source": [
        "Here I will be using ```tensorflow.keras.preprocessing``` to process data before feeding it into the RNN as well as an embedding layer to learn word vectors."
      ]
    },
    {
      "cell_type": "code",
      "metadata": {
        "id": "kORaUbF9QaDZ",
        "colab_type": "code",
        "colab": {}
      },
      "source": [
        "from tensorflow.keras.preprocessing.text import Tokenizer\n",
        "from tensorflow.keras.preprocessing import sequence\n",
        "import numpy as np\n",
        "\n",
        "max_features = 10000 #Using only 10000 most frequent words\n",
        "maxlen = 500 #limits all of the reviews to 500 words\n",
        "batch_size = 32\n",
        "\n",
        "tokenizer = Tokenizer(num_words = max_features)\n",
        "tokenizer.fit_on_texts(features)\n",
        "sequences = tokenizer.texts_to_sequences(features)\n",
        "\n",
        "data = sequence.pad_sequences(sequences, maxlen = maxlen) #Cutting down to 500 words\n",
        "\n",
        "#The following code creates indicies for a combined tensor, randomizes the index, and then assigns the feature and label to the index aligning the data.\n",
        "#This will only work if the features and labels are matching beforehand.\n",
        "indicies = np.arange(data.shape[0])\n",
        "np.random.shuffle(indicies)\n",
        "data = data[indicies]\n",
        "labels = labels[indicies]\n",
        "np.asarray(labels)\n",
        "\n",
        "X_data = data[0:500]\n",
        "y_data = labels[0:500]\n",
        "\n",
        "X_test = data[500:2000]\n",
        "y_test = labels[500:2000]"
      ],
      "execution_count": 0,
      "outputs": []
    },
    {
      "cell_type": "markdown",
      "metadata": {
        "id": "7HHfBR7iZw1P",
        "colab_type": "text"
      },
      "source": [
        "Creating the model"
      ]
    },
    {
      "cell_type": "code",
      "metadata": {
        "id": "DNdKPbUfYyCi",
        "colab_type": "code",
        "colab": {}
      },
      "source": [
        "from tensorflow.keras import regularizers, optimizers\n",
        "from tensorflow.keras.models import Sequential\n",
        "from tensorflow.keras.layers import Dense,Flatten,Dropout,GRU,Embedding\n",
        "\n",
        "################################## === Reccurent layers === ##################################\n",
        "model = Sequential()\n",
        "\n",
        "#Do not insert dropout\n",
        "model.add(Embedding(max_features , 32))\n",
        "model.add(GRU(32,\n",
        "              dropout = 0.1,\n",
        "              return_sequences = True, #Returns each output at the end of a reccurent loop\n",
        "              ))\n",
        "#Do not insert dropout\n",
        "model.add(GRU(64,\n",
        "              dropout = 0.1,\n",
        "              recurrent_dropout = 0.5)) #Specified temporal dropout mask\n",
        "\n",
        "################################## === Model === ##################################\n",
        "\n",
        "model.add(Flatten())\n",
        "\n",
        "#model.add(Dropout(0.2))\n",
        "model.add(Dense(16,\n",
        "                activation = 'relu',\n",
        "                kernel_regularizer=regularizers.l2(0.01)\n",
        "                ))\n",
        "model.add(Dropout(0.2))\n",
        "\n",
        "model.add(Dense(1,activation = \"sigmoid\"))\n",
        "################################## === Compile === ##################################\n",
        "\n",
        "model.compile(optimizer = 'rmsprop',\n",
        "              loss = 'binary_crossentropy',\n",
        "              metrics = ['acc']\n",
        "              )"
      ],
      "execution_count": 0,
      "outputs": []
    },
    {
      "cell_type": "code",
      "metadata": {
        "id": "-NTEJkliv_fy",
        "colab_type": "code",
        "colab": {
          "base_uri": "https://localhost:8080/",
          "height": 1000
        },
        "outputId": "9607b0c5-dc5b-4c0f-b7de-266c5c7dfc58"
      },
      "source": [
        "history = model.fit(X_data,y_data,\n",
        "                    epochs = 100,\n",
        "                    batch_size = 128,\n",
        "                    validation_split = 0.3)"
      ],
      "execution_count": 20,
      "outputs": [
        {
          "output_type": "stream",
          "text": [
            "Train on 350 samples, validate on 150 samples\n",
            "Epoch 1/100\n",
            "350/350 [==============================] - 6s 17ms/sample - loss: 0.9231 - acc: 0.6486 - val_loss: 0.8913 - val_acc: 0.6867\n",
            "Epoch 2/100\n",
            "350/350 [==============================] - 4s 12ms/sample - loss: 0.8594 - acc: 0.7371 - val_loss: 0.8474 - val_acc: 0.6867\n",
            "Epoch 3/100\n",
            "350/350 [==============================] - 4s 12ms/sample - loss: 0.7919 - acc: 0.7371 - val_loss: 0.8328 - val_acc: 0.6867\n",
            "Epoch 4/100\n",
            "350/350 [==============================] - 4s 12ms/sample - loss: 0.7673 - acc: 0.7371 - val_loss: 0.8249 - val_acc: 0.6867\n",
            "Epoch 5/100\n",
            "350/350 [==============================] - 4s 12ms/sample - loss: 0.7080 - acc: 0.7371 - val_loss: 0.8098 - val_acc: 0.6867\n",
            "Epoch 6/100\n",
            "350/350 [==============================] - 4s 12ms/sample - loss: 0.6769 - acc: 0.7371 - val_loss: 0.7991 - val_acc: 0.6867\n",
            "Epoch 7/100\n",
            "350/350 [==============================] - 4s 12ms/sample - loss: 0.6182 - acc: 0.7429 - val_loss: 0.8063 - val_acc: 0.6867\n",
            "Epoch 8/100\n",
            "350/350 [==============================] - 4s 12ms/sample - loss: 0.5390 - acc: 0.8000 - val_loss: 0.8478 - val_acc: 0.6867\n",
            "Epoch 9/100\n",
            "350/350 [==============================] - 4s 12ms/sample - loss: 0.4739 - acc: 0.8857 - val_loss: 0.7990 - val_acc: 0.7267\n",
            "Epoch 10/100\n",
            "350/350 [==============================] - 4s 12ms/sample - loss: 0.4085 - acc: 0.9600 - val_loss: 0.8027 - val_acc: 0.7000\n",
            "Epoch 11/100\n",
            "350/350 [==============================] - 4s 12ms/sample - loss: 0.3564 - acc: 0.9943 - val_loss: 1.0269 - val_acc: 0.7133\n",
            "Epoch 12/100\n",
            "350/350 [==============================] - 4s 12ms/sample - loss: 0.3022 - acc: 0.9943 - val_loss: 1.1585 - val_acc: 0.6933\n",
            "Epoch 13/100\n",
            "350/350 [==============================] - 4s 11ms/sample - loss: 0.2524 - acc: 1.0000 - val_loss: 1.0718 - val_acc: 0.7000\n",
            "Epoch 14/100\n",
            "350/350 [==============================] - 4s 12ms/sample - loss: 0.2281 - acc: 0.9943 - val_loss: 0.8705 - val_acc: 0.6200\n",
            "Epoch 15/100\n",
            "350/350 [==============================] - 4s 12ms/sample - loss: 0.2219 - acc: 0.9914 - val_loss: 1.1591 - val_acc: 0.7200\n",
            "Epoch 16/100\n",
            "350/350 [==============================] - 4s 12ms/sample - loss: 0.1914 - acc: 0.9971 - val_loss: 1.1043 - val_acc: 0.7000\n",
            "Epoch 17/100\n",
            "350/350 [==============================] - 4s 12ms/sample - loss: 0.1757 - acc: 1.0000 - val_loss: 1.1382 - val_acc: 0.6867\n",
            "Epoch 18/100\n",
            "350/350 [==============================] - 4s 12ms/sample - loss: 0.1685 - acc: 1.0000 - val_loss: 1.2158 - val_acc: 0.7067\n",
            "Epoch 19/100\n",
            "350/350 [==============================] - 4s 12ms/sample - loss: 0.1570 - acc: 1.0000 - val_loss: 1.2487 - val_acc: 0.6933\n",
            "Epoch 20/100\n",
            "350/350 [==============================] - 4s 12ms/sample - loss: 0.1468 - acc: 1.0000 - val_loss: 1.2721 - val_acc: 0.6933\n",
            "Epoch 21/100\n",
            "350/350 [==============================] - 4s 12ms/sample - loss: 0.1419 - acc: 1.0000 - val_loss: 1.2893 - val_acc: 0.6933\n",
            "Epoch 22/100\n",
            "350/350 [==============================] - 4s 12ms/sample - loss: 0.1366 - acc: 1.0000 - val_loss: 1.3799 - val_acc: 0.7067\n",
            "Epoch 23/100\n",
            "350/350 [==============================] - 4s 12ms/sample - loss: 0.1368 - acc: 0.9971 - val_loss: 1.2113 - val_acc: 0.6800\n",
            "Epoch 24/100\n",
            "350/350 [==============================] - 4s 12ms/sample - loss: 0.1271 - acc: 1.0000 - val_loss: 1.2829 - val_acc: 0.6867\n",
            "Epoch 25/100\n",
            "350/350 [==============================] - 4s 12ms/sample - loss: 0.1205 - acc: 1.0000 - val_loss: 1.3778 - val_acc: 0.7067\n",
            "Epoch 26/100\n",
            "350/350 [==============================] - 4s 12ms/sample - loss: 0.1162 - acc: 1.0000 - val_loss: 1.3996 - val_acc: 0.6933\n",
            "Epoch 27/100\n",
            "350/350 [==============================] - 4s 11ms/sample - loss: 0.1108 - acc: 1.0000 - val_loss: 1.6437 - val_acc: 0.7067\n",
            "Epoch 28/100\n",
            "350/350 [==============================] - 4s 12ms/sample - loss: 0.1067 - acc: 1.0000 - val_loss: 1.5480 - val_acc: 0.7000\n",
            "Epoch 29/100\n",
            "350/350 [==============================] - 4s 12ms/sample - loss: 0.1007 - acc: 1.0000 - val_loss: 1.4068 - val_acc: 0.6800\n",
            "Epoch 30/100\n",
            "350/350 [==============================] - 4s 12ms/sample - loss: 0.0969 - acc: 1.0000 - val_loss: 1.5023 - val_acc: 0.6933\n",
            "Epoch 31/100\n",
            "350/350 [==============================] - 4s 12ms/sample - loss: 0.0925 - acc: 1.0000 - val_loss: 1.5785 - val_acc: 0.6933\n",
            "Epoch 32/100\n",
            "350/350 [==============================] - 4s 12ms/sample - loss: 0.0907 - acc: 1.0000 - val_loss: 1.5407 - val_acc: 0.7200\n",
            "Epoch 33/100\n",
            "350/350 [==============================] - 4s 12ms/sample - loss: 0.0837 - acc: 1.0000 - val_loss: 1.6052 - val_acc: 0.7133\n",
            "Epoch 34/100\n",
            "350/350 [==============================] - 4s 11ms/sample - loss: 0.0806 - acc: 1.0000 - val_loss: 1.6732 - val_acc: 0.7133\n",
            "Epoch 35/100\n",
            "350/350 [==============================] - 4s 12ms/sample - loss: 0.0776 - acc: 1.0000 - val_loss: 1.6861 - val_acc: 0.7200\n",
            "Epoch 36/100\n",
            "350/350 [==============================] - 4s 12ms/sample - loss: 0.0741 - acc: 1.0000 - val_loss: 1.7423 - val_acc: 0.7267\n",
            "Epoch 37/100\n",
            "350/350 [==============================] - 4s 12ms/sample - loss: 0.0828 - acc: 0.9943 - val_loss: 2.1827 - val_acc: 0.7200\n",
            "Epoch 38/100\n",
            "350/350 [==============================] - 4s 12ms/sample - loss: 0.0679 - acc: 1.0000 - val_loss: 1.8406 - val_acc: 0.7000\n",
            "Epoch 39/100\n",
            "350/350 [==============================] - 4s 12ms/sample - loss: 0.0650 - acc: 1.0000 - val_loss: 1.8230 - val_acc: 0.7000\n",
            "Epoch 40/100\n",
            "350/350 [==============================] - 4s 12ms/sample - loss: 0.0619 - acc: 1.0000 - val_loss: 1.8455 - val_acc: 0.7067\n",
            "Epoch 41/100\n",
            "350/350 [==============================] - 4s 12ms/sample - loss: 0.0600 - acc: 1.0000 - val_loss: 1.9430 - val_acc: 0.7000\n",
            "Epoch 42/100\n",
            "350/350 [==============================] - 4s 12ms/sample - loss: 0.0571 - acc: 1.0000 - val_loss: 1.9734 - val_acc: 0.7000\n",
            "Epoch 43/100\n",
            "350/350 [==============================] - 4s 12ms/sample - loss: 0.0536 - acc: 1.0000 - val_loss: 1.9931 - val_acc: 0.7000\n",
            "Epoch 44/100\n",
            "350/350 [==============================] - 4s 12ms/sample - loss: 0.0523 - acc: 1.0000 - val_loss: 1.9284 - val_acc: 0.7000\n",
            "Epoch 45/100\n",
            "350/350 [==============================] - 4s 12ms/sample - loss: 0.0493 - acc: 1.0000 - val_loss: 1.9558 - val_acc: 0.7000\n",
            "Epoch 46/100\n",
            "350/350 [==============================] - 4s 12ms/sample - loss: 0.0465 - acc: 1.0000 - val_loss: 1.9603 - val_acc: 0.6933\n",
            "Epoch 47/100\n",
            "350/350 [==============================] - 4s 12ms/sample - loss: 0.0452 - acc: 1.0000 - val_loss: 2.0153 - val_acc: 0.7067\n",
            "Epoch 48/100\n",
            "350/350 [==============================] - 4s 11ms/sample - loss: 0.0426 - acc: 1.0000 - val_loss: 1.9560 - val_acc: 0.7133\n",
            "Epoch 49/100\n",
            "350/350 [==============================] - 4s 12ms/sample - loss: 0.0401 - acc: 1.0000 - val_loss: 1.9790 - val_acc: 0.7133\n",
            "Epoch 50/100\n",
            "350/350 [==============================] - 4s 12ms/sample - loss: 0.0390 - acc: 1.0000 - val_loss: 2.0775 - val_acc: 0.7200\n",
            "Epoch 51/100\n",
            "350/350 [==============================] - 4s 12ms/sample - loss: 0.0372 - acc: 1.0000 - val_loss: 2.0391 - val_acc: 0.7200\n",
            "Epoch 52/100\n",
            "350/350 [==============================] - 4s 12ms/sample - loss: 0.0353 - acc: 1.0000 - val_loss: 2.0570 - val_acc: 0.7067\n",
            "Epoch 53/100\n",
            "350/350 [==============================] - 4s 12ms/sample - loss: 0.0324 - acc: 1.0000 - val_loss: 1.9635 - val_acc: 0.7200\n",
            "Epoch 54/100\n",
            "350/350 [==============================] - 4s 12ms/sample - loss: 0.0315 - acc: 1.0000 - val_loss: 2.0405 - val_acc: 0.7133\n",
            "Epoch 55/100\n",
            "350/350 [==============================] - 4s 12ms/sample - loss: 0.0301 - acc: 1.0000 - val_loss: 2.3532 - val_acc: 0.6867\n",
            "Epoch 56/100\n",
            "350/350 [==============================] - 4s 12ms/sample - loss: 0.4317 - acc: 0.9314 - val_loss: 1.4305 - val_acc: 0.7133\n",
            "Epoch 57/100\n",
            "350/350 [==============================] - 4s 11ms/sample - loss: 0.0387 - acc: 0.9971 - val_loss: 1.4326 - val_acc: 0.7067\n",
            "Epoch 58/100\n",
            "350/350 [==============================] - 4s 12ms/sample - loss: 0.0284 - acc: 1.0000 - val_loss: 1.4424 - val_acc: 0.7133\n",
            "Epoch 59/100\n",
            "350/350 [==============================] - 4s 12ms/sample - loss: 0.0275 - acc: 1.0000 - val_loss: 1.4530 - val_acc: 0.7000\n",
            "Epoch 60/100\n",
            "350/350 [==============================] - 4s 12ms/sample - loss: 0.0277 - acc: 1.0000 - val_loss: 1.5151 - val_acc: 0.6933\n",
            "Epoch 61/100\n",
            "350/350 [==============================] - 4s 12ms/sample - loss: 0.0269 - acc: 1.0000 - val_loss: 1.6214 - val_acc: 0.6867\n",
            "Epoch 62/100\n",
            "350/350 [==============================] - 4s 12ms/sample - loss: 0.0264 - acc: 1.0000 - val_loss: 1.6459 - val_acc: 0.6867\n",
            "Epoch 63/100\n",
            "350/350 [==============================] - 4s 12ms/sample - loss: 0.0252 - acc: 1.0000 - val_loss: 1.6537 - val_acc: 0.6933\n",
            "Epoch 64/100\n",
            "350/350 [==============================] - 4s 12ms/sample - loss: 0.0247 - acc: 1.0000 - val_loss: 1.6748 - val_acc: 0.6933\n",
            "Epoch 65/100\n",
            "350/350 [==============================] - 4s 12ms/sample - loss: 0.0234 - acc: 1.0000 - val_loss: 1.6626 - val_acc: 0.7000\n",
            "Epoch 66/100\n",
            "350/350 [==============================] - 4s 12ms/sample - loss: 0.0237 - acc: 1.0000 - val_loss: 1.6897 - val_acc: 0.7000\n",
            "Epoch 67/100\n",
            "350/350 [==============================] - 4s 12ms/sample - loss: 0.0220 - acc: 1.0000 - val_loss: 1.7102 - val_acc: 0.7000\n",
            "Epoch 68/100\n",
            "350/350 [==============================] - 4s 12ms/sample - loss: 0.0217 - acc: 1.0000 - val_loss: 1.7286 - val_acc: 0.7000\n",
            "Epoch 69/100\n",
            "350/350 [==============================] - 4s 12ms/sample - loss: 0.0204 - acc: 1.0000 - val_loss: 1.7217 - val_acc: 0.7000\n",
            "Epoch 70/100\n",
            "350/350 [==============================] - 4s 12ms/sample - loss: 0.0206 - acc: 1.0000 - val_loss: 1.7293 - val_acc: 0.7067\n",
            "Epoch 71/100\n",
            "350/350 [==============================] - 4s 12ms/sample - loss: 0.0196 - acc: 1.0000 - val_loss: 1.7420 - val_acc: 0.7000\n",
            "Epoch 72/100\n",
            "350/350 [==============================] - 4s 12ms/sample - loss: 0.0188 - acc: 1.0000 - val_loss: 1.7428 - val_acc: 0.7067\n",
            "Epoch 73/100\n",
            "350/350 [==============================] - 4s 12ms/sample - loss: 0.0177 - acc: 1.0000 - val_loss: 1.7558 - val_acc: 0.7067\n",
            "Epoch 74/100\n",
            "350/350 [==============================] - 4s 12ms/sample - loss: 0.0172 - acc: 1.0000 - val_loss: 1.7680 - val_acc: 0.7067\n",
            "Epoch 75/100\n",
            "350/350 [==============================] - 4s 12ms/sample - loss: 0.0163 - acc: 1.0000 - val_loss: 1.7697 - val_acc: 0.7067\n",
            "Epoch 76/100\n",
            "350/350 [==============================] - 4s 12ms/sample - loss: 0.0154 - acc: 1.0000 - val_loss: 1.7585 - val_acc: 0.7067\n",
            "Epoch 77/100\n",
            "350/350 [==============================] - 4s 11ms/sample - loss: 0.0150 - acc: 1.0000 - val_loss: 1.7740 - val_acc: 0.7000\n",
            "Epoch 78/100\n",
            "350/350 [==============================] - 4s 12ms/sample - loss: 0.0152 - acc: 1.0000 - val_loss: 1.8189 - val_acc: 0.7000\n",
            "Epoch 79/100\n",
            "350/350 [==============================] - 4s 11ms/sample - loss: 0.0153 - acc: 1.0000 - val_loss: 2.0012 - val_acc: 0.7200\n",
            "Epoch 80/100\n",
            "350/350 [==============================] - 4s 12ms/sample - loss: 0.0138 - acc: 1.0000 - val_loss: 1.9636 - val_acc: 0.7267\n",
            "Epoch 81/100\n",
            "350/350 [==============================] - 4s 12ms/sample - loss: 0.0144 - acc: 1.0000 - val_loss: 1.9866 - val_acc: 0.7267\n",
            "Epoch 82/100\n",
            "350/350 [==============================] - 4s 12ms/sample - loss: 0.0124 - acc: 1.0000 - val_loss: 1.9459 - val_acc: 0.7200\n",
            "Epoch 83/100\n",
            "350/350 [==============================] - 4s 12ms/sample - loss: 0.0126 - acc: 1.0000 - val_loss: 1.9112 - val_acc: 0.7333\n",
            "Epoch 84/100\n",
            "350/350 [==============================] - 4s 12ms/sample - loss: 0.0115 - acc: 1.0000 - val_loss: 1.9041 - val_acc: 0.7333\n",
            "Epoch 85/100\n",
            "350/350 [==============================] - 4s 12ms/sample - loss: 0.0111 - acc: 1.0000 - val_loss: 2.1266 - val_acc: 0.7133\n",
            "Epoch 86/100\n",
            "350/350 [==============================] - 4s 11ms/sample - loss: 0.0406 - acc: 0.9943 - val_loss: 1.6428 - val_acc: 0.7000\n",
            "Epoch 87/100\n",
            "350/350 [==============================] - 4s 12ms/sample - loss: 0.0115 - acc: 1.0000 - val_loss: 1.7030 - val_acc: 0.6933\n",
            "Epoch 88/100\n",
            "350/350 [==============================] - 4s 12ms/sample - loss: 0.0112 - acc: 1.0000 - val_loss: 1.7006 - val_acc: 0.6800\n",
            "Epoch 89/100\n",
            "350/350 [==============================] - 4s 12ms/sample - loss: 0.0101 - acc: 1.0000 - val_loss: 1.7511 - val_acc: 0.6667\n",
            "Epoch 90/100\n",
            "350/350 [==============================] - 4s 12ms/sample - loss: 0.0094 - acc: 1.0000 - val_loss: 1.8098 - val_acc: 0.6667\n",
            "Epoch 91/100\n",
            "350/350 [==============================] - 4s 12ms/sample - loss: 0.0101 - acc: 1.0000 - val_loss: 1.8696 - val_acc: 0.6667\n",
            "Epoch 92/100\n",
            "350/350 [==============================] - 4s 12ms/sample - loss: 0.0096 - acc: 1.0000 - val_loss: 1.8677 - val_acc: 0.6733\n",
            "Epoch 93/100\n",
            "350/350 [==============================] - 4s 12ms/sample - loss: 0.0095 - acc: 1.0000 - val_loss: 1.8907 - val_acc: 0.6733\n",
            "Epoch 94/100\n",
            "350/350 [==============================] - 4s 12ms/sample - loss: 0.0094 - acc: 1.0000 - val_loss: 1.8979 - val_acc: 0.6733\n",
            "Epoch 95/100\n",
            "350/350 [==============================] - 4s 12ms/sample - loss: 0.0097 - acc: 1.0000 - val_loss: 1.9146 - val_acc: 0.6667\n",
            "Epoch 96/100\n",
            "350/350 [==============================] - 4s 12ms/sample - loss: 0.0087 - acc: 1.0000 - val_loss: 1.8939 - val_acc: 0.6733\n",
            "Epoch 97/100\n",
            "350/350 [==============================] - 4s 12ms/sample - loss: 0.0084 - acc: 1.0000 - val_loss: 1.9174 - val_acc: 0.6667\n",
            "Epoch 98/100\n",
            "350/350 [==============================] - 4s 12ms/sample - loss: 0.0084 - acc: 1.0000 - val_loss: 1.9513 - val_acc: 0.6667\n",
            "Epoch 99/100\n",
            "350/350 [==============================] - 4s 12ms/sample - loss: 0.0080 - acc: 1.0000 - val_loss: 1.9662 - val_acc: 0.6667\n",
            "Epoch 100/100\n",
            "350/350 [==============================] - 4s 12ms/sample - loss: 0.0088 - acc: 1.0000 - val_loss: 2.0232 - val_acc: 0.6667\n"
          ],
          "name": "stdout"
        }
      ]
    },
    {
      "cell_type": "code",
      "metadata": {
        "id": "zdnJrrnKwfTz",
        "colab_type": "code",
        "colab": {
          "base_uri": "https://localhost:8080/",
          "height": 316
        },
        "outputId": "006fea43-e65d-4071-db8c-657aa4ad212a"
      },
      "source": [
        "import matplotlib.pyplot as plt\n",
        "\n",
        "epochs = [i for i in range(0,100)]\n",
        "loss = history.history['loss']\n",
        "val_loss = history.history['val_loss']\n",
        "\n",
        "plt.style.use(\"ggplot\")\n",
        "\n",
        "plt.xlabel(\"Epochs\")\n",
        "plt.ylabel(\"Loss\")\n",
        "plt.title(\"Loss vs Epochs\")\n",
        "plt.plot(epochs,loss)"
      ],
      "execution_count": 27,
      "outputs": [
        {
          "output_type": "execute_result",
          "data": {
            "text/plain": [
              "[<matplotlib.lines.Line2D at 0x7f9475136f60>]"
            ]
          },
          "metadata": {
            "tags": []
          },
          "execution_count": 27
        },
        {
          "output_type": "display_data",
          "data": {
            "image/png": "[encoded data removed]",
            "text/plain": [
              "<Figure size 432x288 with 1 Axes>"
            ]
          },
          "metadata": {
            "tags": []
          }
        }
      ]
    },
    {
      "cell_type": "code",
      "metadata": {
        "id": "7MqSr2It05i0",
        "colab_type": "code",
        "colab": {
          "base_uri": "https://localhost:8080/",
          "height": 316
        },
        "outputId": "4748a849-637d-45a8-8508-60130720fc6a"
      },
      "source": [
        "plt.xlabel(\"Epochs\")\n",
        "plt.ylabel(\"Val_Loss\")\n",
        "plt.title(\"Val_Loss vs Epochs\")\n",
        "plt.plot(epochs,val_loss)"
      ],
      "execution_count": 30,
      "outputs": [
        {
          "output_type": "execute_result",
          "data": {
            "text/plain": [
              "[<matplotlib.lines.Line2D at 0x7f94746cb7f0>]"
            ]
          },
          "metadata": {
            "tags": []
          },
          "execution_count": 30
        },
        {
          "output_type": "display_data",
          "data": {
            "image/png": "[encoded data removed]",
            "text/plain": [
              "<Figure size 432x288 with 1 Axes>"
            ]
          },
          "metadata": {
            "tags": []
          }
        }
      ]
    },
    {
      "cell_type": "markdown",
      "metadata": {
        "id": "XwnN5S1b1oEf",
        "colab_type": "text"
      },
      "source": [
        "As seen above, the model quickly overfits. This is in part due to the word embedding layer not being fully representing the entire dataset due to the data not being cleaned. The val_loss being so high makes this model unusable, but it can be drastically improved using an NLP model, NLP processing, and an imported word vector lib (Word2Vec)."
      ]
    }
  ]
}